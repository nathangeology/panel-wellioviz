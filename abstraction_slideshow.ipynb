{
 "cells": [
  {
   "cell_type": "markdown",
   "metadata": {
    "collapsed": true,
    "slideshow": {
     "slide_type": "slide"
    }
   },
   "source": [
    "# The power of abstraction(for geoscientist types)\n",
    "### **NOTICE: Lesson not guaranteed to be effective for engineers.**\n",
    "\n",
    "By: Nathan Jones, Data Geoscientist\n",
    "\n",
    "<img src=\"https://encrypted-tbn0.gstatic.com/images?q=tbn%3AANd9GcTOji6pqnyV_8CijbZAeyfEAVMmX1YQ5TxSjBPgkqTcPu1EZrMa&usqp=CAU\"\n",
    "     alt=\"Agile Programming\"\n",
    "     style=\"float: left; margin-right: 10px;\" />\n",
    "www.dilbert.com\n",
    "\n"
   ]
  },
  {
   "cell_type": "markdown",
   "metadata": {
    "pycharm": {
     "name": "#%%\n"
    },
    "slideshow": {
     "slide_type": "slide"
    }
   },
   "source": [
    "## Abstraction\n",
    "<img src=\"https://imgs.xkcd.com/comics/abstraction.png\"\n",
    "     alt=\"Relevant XKCD\"\n",
    "     style=\"float: left; margin-right: 10px;\" />\n",
    "     https://xkcd.com/676/\n",
    "\n"
   ]
  },
  {
   "cell_type": "markdown",
   "metadata": {
    "slideshow": {
     "slide_type": "slide"
    }
   },
   "source": [
    "## Seriously? Why is abstraction important??\n",
    "\n",
    "We all aspire to flexible, agile, modular, ... code. Why do we fail!?? \n",
    "\n",
    "Well, there are several reasons, but a big one is the concept of dependancies...\n",
    "<img src=\"https://i.ibb.co/yfrrsgk/Dependancies-1.png\" alt=\"Dependancies-1\"\n",
    "     alt=\"Agile Programming\"\n",
    "     style=\"float: left; margin-right: 10px;\" />\n"
   ]
  },
  {
   "cell_type": "markdown",
   "metadata": {
    "slideshow": {
     "slide_type": "slide"
    }
   },
   "source": [
    "### Not too bad yet...\n",
    "<img src=\"https://i.ibb.co/Mfb7RTh/slide-2.png\" alt=\"slide-2\" alt=\"Dependancies-1\"\n",
    "     alt=\"Agile Programming\"\n",
    "     style=\"float: left; margin-right: 10px;\" />"
   ]
  },
  {
   "cell_type": "markdown",
   "metadata": {
    "slideshow": {
     "slide_type": "slide"
    }
   },
   "source": [
    "### Uh, oh....\n",
    "\n",
    "<img src=\"https://i.ibb.co/gTxc1jz/slide-3.png\" alt=\"slide-2\" alt=\"Dependancies-1\"\n",
    " alt=\"Agile Programming\"\n",
    " style=\"float: left; margin-right: 10px;\" />\n",
    " \n",
    " As dependancies increase, your ability to change the code that is depended on decreases until it is nearly impossible to change even the simplest thing without spawning an epic bug hunt on all the downstream code..."
   ]
  },
  {
   "cell_type": "markdown",
   "metadata": {
    "slideshow": {
     "slide_type": "slide"
    }
   },
   "source": [
    "### Abstraction to the rescue!\n",
    "<img src=\"https://i.ibb.co/c2Hb9cf/slide-4.png\" alt=\"slide-2\" alt=\"Dependancies-1\"\n",
    " alt=\"Agile Programming\"\n",
    " style=\"float: left; margin-right: 10px;\" />\n",
    "\n",
    "Abstraction takes an **idea** and makes all the downstream code depend on it. This 'inverts' the dependancy flow so that all the downstream code no longer depends directly on anythin beyond the abstraction...\n",
    "\n",
    "Let's do a simple code example...\n"
   ]
  },
  {
   "cell_type": "code",
   "execution_count": 16,
   "metadata": {
    "slideshow": {
     "slide_type": "slide"
    }
   },
   "outputs": [
    {
     "data": {
      "text/html": [
       "<div>\n",
       "<style scoped>\n",
       "    .dataframe tbody tr th:only-of-type {\n",
       "        vertical-align: middle;\n",
       "    }\n",
       "\n",
       "    .dataframe tbody tr th {\n",
       "        vertical-align: top;\n",
       "    }\n",
       "\n",
       "    .dataframe thead th {\n",
       "        text-align: right;\n",
       "    }\n",
       "</style>\n",
       "<table border=\"1\" class=\"dataframe\">\n",
       "  <thead>\n",
       "    <tr style=\"text-align: right;\">\n",
       "      <th></th>\n",
       "      <th>picks</th>\n",
       "      <th>well_name</th>\n",
       "      <th>uwis</th>\n",
       "      <th>measured_depth</th>\n",
       "    </tr>\n",
       "  </thead>\n",
       "  <tbody>\n",
       "    <tr>\n",
       "      <td>0</td>\n",
       "      <td>A</td>\n",
       "      <td>Well-1</td>\n",
       "      <td>00000001</td>\n",
       "      <td>100.0</td>\n",
       "    </tr>\n",
       "    <tr>\n",
       "      <td>1</td>\n",
       "      <td>B</td>\n",
       "      <td>Well-1</td>\n",
       "      <td>00000001</td>\n",
       "      <td>200.0</td>\n",
       "    </tr>\n",
       "    <tr>\n",
       "      <td>2</td>\n",
       "      <td>C</td>\n",
       "      <td>Well-2</td>\n",
       "      <td>00000002</td>\n",
       "      <td>150.0</td>\n",
       "    </tr>\n",
       "  </tbody>\n",
       "</table>\n",
       "</div>"
      ],
      "text/plain": [
       "  picks well_name      uwis  measured_depth\n",
       "0     A    Well-1  00000001           100.0\n",
       "1     B    Well-1  00000001           200.0\n",
       "2     C    Well-2  00000002           150.0"
      ]
     },
     "execution_count": 16,
     "metadata": {},
     "output_type": "execute_result"
    }
   ],
   "source": [
    "import pandas as pd\n",
    "### Let's load some picks!\n",
    "picks_data_1 = pd.DataFrame(dict(picks=['A', 'B', 'C'],\n",
    "                    well_name=['Well-1', 'Well-1', 'Well-2'],\n",
    "                    uwis=['00000001', '00000001', '00000002'],\n",
    "                    measured_depth=[100.0, 200.0, 150.0],\n",
    "                   ))\n",
    "picks_data_1.head()"
   ]
  },
  {
   "cell_type": "code",
   "execution_count": 15,
   "metadata": {
    "slideshow": {
     "slide_type": "slide"
    }
   },
   "outputs": [
    {
     "name": "stdout",
     "output_type": "stream",
     "text": [
      "well_name\n",
      "Well-1    300.0\n",
      "Well-2    150.0\n",
      "Name: measured_depth, dtype: float64\n"
     ]
    }
   ],
   "source": [
    "# Let's do some kind of process on our picks\n",
    "def sum_picks_for_well_process(picks_df):\n",
    "    wells = picks_df.groupby('well_name')\n",
    "    output = wells['measured_depth'].sum()\n",
    "    return output\n",
    "\n",
    "# Let's try our process on our data\n",
    "summed_picks = sum_picks_for_well_process(picks_data_1)\n",
    "print(summed_picks)"
   ]
  },
  {
   "cell_type": "code",
   "execution_count": 5,
   "metadata": {
    "scrolled": true,
    "slideshow": {
     "slide_type": "slide"
    }
   },
   "outputs": [
    {
     "data": {
      "text/html": [
       "<div>\n",
       "<style scoped>\n",
       "    .dataframe tbody tr th:only-of-type {\n",
       "        vertical-align: middle;\n",
       "    }\n",
       "\n",
       "    .dataframe tbody tr th {\n",
       "        vertical-align: top;\n",
       "    }\n",
       "\n",
       "    .dataframe thead th {\n",
       "        text-align: right;\n",
       "    }\n",
       "</style>\n",
       "<table border=\"1\" class=\"dataframe\">\n",
       "  <thead>\n",
       "    <tr style=\"text-align: right;\">\n",
       "      <th></th>\n",
       "      <th>HERE_ARE_THE_PICKS</th>\n",
       "      <th>WELL</th>\n",
       "      <th>API2000</th>\n",
       "      <th>MD_FIXED</th>\n",
       "    </tr>\n",
       "  </thead>\n",
       "  <tbody>\n",
       "    <tr>\n",
       "      <td>0</td>\n",
       "      <td>HADES1</td>\n",
       "      <td>MUHAHAHA</td>\n",
       "      <td>00000001</td>\n",
       "      <td>200.0</td>\n",
       "    </tr>\n",
       "    <tr>\n",
       "      <td>1</td>\n",
       "      <td>PIT OF DESPAIR</td>\n",
       "      <td>MUHAHAHA</td>\n",
       "      <td>00000001</td>\n",
       "      <td>400.0</td>\n",
       "    </tr>\n",
       "    <tr>\n",
       "      <td>2</td>\n",
       "      <td>PIT OF DESPAIR</td>\n",
       "      <td>DIEDIEDIE</td>\n",
       "      <td>00000002</td>\n",
       "      <td>150.0</td>\n",
       "    </tr>\n",
       "  </tbody>\n",
       "</table>\n",
       "</div>"
      ],
      "text/plain": [
       "  HERE_ARE_THE_PICKS       WELL   API2000  MD_FIXED\n",
       "0             HADES1   MUHAHAHA  00000001     200.0\n",
       "1     PIT OF DESPAIR   MUHAHAHA  00000001     400.0\n",
       "2     PIT OF DESPAIR  DIEDIEDIE  00000002     150.0"
      ]
     },
     "execution_count": 5,
     "metadata": {},
     "output_type": "execute_result"
    }
   ],
   "source": [
    "# All is well! Our process works on the picks data time to move on!!!\n",
    "\n",
    "# Enter: The Request: \"Hi! We just bought a field, could you use your amazing script on their data for me??\"\n",
    "\n",
    "# Here's the data:\n",
    "picks_data_from_our_fantastic_new_asset = pd.DataFrame(dict(HERE_ARE_THE_PICKS=['HADES1', 'PIT OF DESPAIR', 'PIT OF DESPAIR'],\n",
    "                                                            WELL=['MUHAHAHA', 'MUHAHAHA', 'DIEDIEDIE'],\n",
    "                                                            API2000=['00000001', '00000001', '00000002'],\n",
    "                                                            MD_FIXED=[200.0, 400.0, 150.0],\n",
    "                                                           ))\n",
    "picks_data_from_our_fantastic_new_asset.head()"
   ]
  },
  {
   "cell_type": "code",
   "execution_count": 14,
   "metadata": {
    "slideshow": {
     "slide_type": "slide"
    }
   },
   "outputs": [],
   "source": [
    "# Welp, let's try my awesome script on it...\n",
    "summed_picks = sum_picks_for_well_process(picks_data_from_our_fantastic_new_asset)"
   ]
  },
  {
   "cell_type": "code",
   "execution_count": 13,
   "metadata": {
    "slideshow": {
     "slide_type": "slide"
    }
   },
   "outputs": [
    {
     "name": "stdout",
     "output_type": "stream",
     "text": [
      "MD_FIXED\n",
      "well_name\n",
      "DIEDIEDIE    150.0\n",
      "MUHAHAHA     600.0\n",
      "Name: measured_depth, dtype: float64\n"
     ]
    }
   ],
   "source": [
    "# WHAT!??? WHY??? WHHHHHYYYYYYYYYY!!!!!!???? THIS NEVER HAPPENS!!!\n",
    "\n",
    "# What would an abstraction look like here?\n",
    "\n",
    "def column_cleaner(df):\n",
    "    cleaner = dict(HERE_ARE_THE_PICKS='picks',\n",
    "                   WELL='well_name',\n",
    "                   API2000='uwis',\n",
    "                   MD_FIXED='measured_depth'\n",
    "                  )\n",
    "    cols = list(df.columns)\n",
    "    for idx, col in enumerate(cols):\n",
    "        if col in cleaner.keys():\n",
    "            print(col)\n",
    "            cols[idx] = cleaner[col]\n",
    "    df.columns = cols\n",
    "    return df\n",
    "\n",
    "# Let's try this again\n",
    "summed_picks = sum_picks_for_well_process(column_cleaner(picks_data_from_our_fantastic_new_asset))\n",
    "print(summed_picks)"
   ]
  },
  {
   "cell_type": "markdown",
   "metadata": {
    "slideshow": {
     "slide_type": "slide"
    }
   },
   "source": [
    "### The Abstraction\n",
    "<img src=\"https://i.ibb.co/Yyw4v20/slide-5.png\" alt=\"slide-2\" alt=\"Dependancies-1\"\n",
    " alt=\"Agile Programming\"\n",
    " style=\"float: left; margin-right: 10px;\" />\n",
    "It worked! Our process now works with both sets of picks, but... What was the 'abstraction'? In this case we are creating the \"idea\" of a universal pick schema that applies to ALL of the code downstream of \"column_cleaner\" whether that is one little function or a data pipeline for your new awesome geomodelling script. Without this abstract schema in place the code would depend directly on the data sources... and chaos will eventually ensue...\n",
    "\n"
   ]
  },
  {
   "cell_type": "markdown",
   "metadata": {
    "slideshow": {
     "slide_type": "slide"
    }
   },
   "source": [
    "### In Closing\n",
    "\n",
    "This a simple, kinda dumb example, but abstraction is a powerful principle of agility in code. There are many use cases for preventing code dependancies from ruining your day, but I'll mention one more: outside, 3rd party code packages. Outside packages may not care about you, your code that suddenly broke from their change, or your need for them to keep maintaining said code. They owe you nothing (probably, look at the license, but if you didn't pay them... nothing). Building an abstraction layer between your code and theirs can save the day! Sort of dumb example: Pandas. You could build an abstraction layer between your code in pandas. Instead of calling pandas directly, you'd call your abstract dataframe class (which would route the request on to pandas). Why do this? Well, one reason is that you could write an extension to your abstraction to support another dataframe package (spark, arcgis dataframes, xarray, etc etc) and hot swap them in your code whenever you want/need without your code being the wiser. Another reason is that if pandas breaks your code, you probably only need to fix it in one spot (the abstract class). Pretty cool eh?"
   ]
  },
  {
   "cell_type": "code",
   "execution_count": null,
   "metadata": {
    "slideshow": {
     "slide_type": "slide"
    }
   },
   "outputs": [],
   "source": []
  }
 ],
 "metadata": {
  "celltoolbar": "Slideshow",
  "kernelspec": {
   "display_name": "Python 3",
   "language": "python",
   "name": "python3"
  },
  "language_info": {
   "codemirror_mode": {
    "name": "ipython",
    "version": 3
   },
   "file_extension": ".py",
   "mimetype": "text/x-python",
   "name": "python",
   "nbconvert_exporter": "python",
   "pygments_lexer": "ipython3",
   "version": "3.6.10"
  }
 },
 "nbformat": 4,
 "nbformat_minor": 1
}
